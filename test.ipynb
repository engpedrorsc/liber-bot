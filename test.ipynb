{
 "metadata": {
  "language_info": {
   "codemirror_mode": {
    "name": "ipython",
    "version": 3
   },
   "file_extension": ".py",
   "mimetype": "text/x-python",
   "name": "python",
   "nbconvert_exporter": "python",
   "pygments_lexer": "ipython3",
   "version": "3.8.5-final"
  },
  "orig_nbformat": 2,
  "kernelspec": {
   "name": "Python 3.8.5 64-bit ('soneg-bot': conda)",
   "display_name": "Python 3.8.5 64-bit ('soneg-bot': conda)",
   "metadata": {
    "interpreter": {
     "hash": "8e535ea7c3baf2b1f1a2c983d3a16ce542e9c9e17a14e835629d2f2493dd380a"
    }
   }
  }
 },
 "nbformat": 4,
 "nbformat_minor": 2,
 "cells": [
  {
   "cell_type": "code",
   "execution_count": 1,
   "metadata": {},
   "outputs": [],
   "source": [
    "from selenium import webdriver\n",
    "from selenium.webdriver.common.by import By\n",
    "from selenium.webdriver.support.expected_conditions import presence_of_element_located\n",
    "from selenium.webdriver.support.ui import WebDriverWait\n",
    "from time import sleep\n",
    "import html\n",
    "import tweepy\n",
    "from datetime import datetime as dt"
   ]
  },
  {
   "cell_type": "code",
   "execution_count": 16,
   "metadata": {},
   "outputs": [
    {
     "output_type": "stream",
     "name": "stdout",
     "text": [
      "tentei 0\ntentei 8\ntentei 16\n16\n"
     ]
    }
   ],
   "source": [
    "evasion_times = [0, 8, 16]\n",
    "for time in evasion_times:\n",
    "    if time >= 10:\n",
    "        start_hour_index = evasion_times.index(time)\n",
    "        break\n",
    "    else:\n",
    "        start_hour_index = evasion_times[0]"
   ]
  },
  {
   "cell_type": "code",
   "execution_count": 24,
   "metadata": {},
   "outputs": [
    {
     "output_type": "stream",
     "name": "stdout",
     "text": [
      "0\npost in day 1 at 0\npost in day 1 at 8\npost in day 1 at 16\npost in day 2 at 0\npost in day 2 at 8\npost in day 2 at 16\npost in day 3 at 0\npost in day 3 at 8\npost in day 3 at 16\n"
     ]
    }
   ],
   "source": [
    "days = range(1,4)\n",
    "times = range(0,24)\n",
    "now = 0\n",
    "evasion_hours = [0, 8, 16]\n",
    "for time in evasion_hours:\n",
    "    if time >= now:\n",
    "        start_hour_index = evasion_hours.index(time)\n",
    "        break\n",
    "\n",
    "print(evasion_hours[start_hour_index])\n",
    "\n",
    "evasion_time_index = start_hour_index\n",
    "for day in days:\n",
    "    for time in times:\n",
    "        if evasion_hours[evasion_time_index] == time:\n",
    "                print(f'post in day {day} at {time}')\n",
    "                evasion_time_index +=1\n",
    "                if evasion_time_index >= len(evasion_hours):\n",
    "                    evasion_time_index = 0"
   ]
  },
  {
   "cell_type": "code",
   "execution_count": null,
   "metadata": {},
   "outputs": [],
   "source": []
  }
 ]
}